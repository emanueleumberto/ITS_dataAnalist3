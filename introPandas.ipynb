{
 "cells": [
  {
   "cell_type": "markdown",
   "id": "3c4c48bc",
   "metadata": {},
   "source": [
    "# Pandas\n",
    "\n",
    "# Pandas introduce due nuovi tipi di dato\n",
    "# Series e DataFrame\n",
    "# Series -> prendono in ingresso una lista di valori\n",
    "# Dataframe -> prendono in ingresso un dizionario o un ndArray\n",
    "# Dataframe è un tipo di dato ottimizzato per lavorare con tabelle bidimensionali\n",
    "# come quelle che utilizziamo su un CSV o in Excel o tramite un JSON o dati di tipo SQL\n",
    "\n",
    "# pip install pandas"
   ]
  },
  {
   "cell_type": "code",
   "execution_count": null,
   "id": "8dd772c3",
   "metadata": {},
   "outputs": [],
   "source": [
    "import pandas as pd\n",
    "\n",
    "# print('Versione pandas:', pd.__version__)\n",
    "\n",
    "# Series e DataFrame\n",
    "# Series -> prendo in ingresso una lista di valori\n",
    "# Series -> pd.Series(data, index?)\n",
    "\n",
    "pds = pd.Series([24,65,31,89,22])\n",
    "# print(pds)\n",
    "# print(pds[2])\n",
    "# print(pds[1:3])\n",
    "\n",
    "pdsi = pd.Series([24,65,31,89,22], index=list('abcde'))\n",
    "# print(pdsi)\n",
    "# print(pdsi['b'])\n",
    "# print(pdsi['b':'d'])\n",
    "\n",
    "# Esistono due metodi diversi nelle Series che permettono\n",
    "# l'accesso a un sottoinsieme di dati\n",
    "# loc[] -> usa le etichette\n",
    "# iloc[] -> usa gli indici (slicing)\n",
    "pdsi = pd.Series([24,65,31,89,22], index=['2000', '2001', '2002', '2003', '2004'])\n",
    "print(pdsi)\n",
    "# print(pdsi.iloc[2])\n",
    "# print(pdsi.loc['2002'])\n",
    "print(pdsi.iloc[1:3])\n",
    "print(pdsi.loc['2001':'2003'])\n"
   ]
  },
  {
   "cell_type": "code",
   "execution_count": null,
   "id": "211cc990",
   "metadata": {},
   "outputs": [],
   "source": [
    "# DataFrame\n",
    "# Dataframe è un tipo di dato ottimizzato per lavorare con tabelle bidimensionali\n",
    "# come quelle che utilizziamo su un CSV,in Excel, tramite un JSON o dati di tipo SQL\n",
    "# Dataframe -> prendono in ingresso un dizionario o un ndArray\n",
    "\n",
    "import pandas as pd\n",
    "import numpy as np\n",
    "\n",
    "matrix = np.random.randint(0,100, [4,5])\n",
    "# print(matrix)\n",
    "# print(type(matrix))\n",
    "# pd.DataFrame(matrix)\n",
    "\n",
    "# Posso esplicitare intestazioni di riga e/o di colonna nella\n",
    "# rappresentazione del dato di un DataFrame\n",
    "pd.DataFrame(matrix, \n",
    "             index=['Roma', 'Milano', 'Napoli', 'Torino'], \n",
    "             columns=['2020', '2021', '2022', '2023', '2024'])\n",
    "\n",
    "\n",
    "# Dizionario è un dato composto da una serie di coppie chiave/valore\n",
    "data = {\n",
    "    'Data Analyst': [10, 20, 30],\n",
    "    'Cyber Security': [40, 50, 60],\n",
    "    'Full Stack Developer': [70, 80, 90],\n",
    "    'Cloud Developer': [10, 40, 70]\n",
    "}\n",
    "print(data)\n",
    "# Posso esplicitare intestazioni di riga per\n",
    "# rappresentazione del dato di un DataFrame\n",
    "# le intestazioni di colonna vengono prese di default dalle chiavi del dizionario\n",
    "pd.DataFrame(data, index=['Roma', 'Milano', 'Napoli'])"
   ]
  }
 ],
 "metadata": {
  "kernelspec": {
   "display_name": "Python 3",
   "language": "python",
   "name": "python3"
  },
  "language_info": {
   "codemirror_mode": {
    "name": "ipython",
    "version": 3
   },
   "file_extension": ".py",
   "mimetype": "text/x-python",
   "name": "python",
   "nbconvert_exporter": "python",
   "pygments_lexer": "ipython3",
   "version": "3.13.3"
  }
 },
 "nbformat": 4,
 "nbformat_minor": 5
}
