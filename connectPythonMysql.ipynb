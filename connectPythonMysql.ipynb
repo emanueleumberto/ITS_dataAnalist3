{
 "cells": [
  {
   "cell_type": "markdown",
   "id": "e41fe1d2",
   "metadata": {},
   "source": [
    "Un file IPYNB è il formato standard di Jupiter Notebook ovvero documenti interattivi che contengono codice, testo e altri elementi multimediali tipicamente utilizzati per l'analisi e la visualizzazione di dati con Python."
   ]
  },
  {
   "cell_type": "code",
   "execution_count": 4,
   "id": "4b813c7a",
   "metadata": {},
   "outputs": [
    {
     "name": "stdout",
     "output_type": "stream",
     "text": [
      "Ciao a tutti!\n"
     ]
    }
   ],
   "source": [
    "a = 'Ciao a tutti!'\n",
    "print(a)"
   ]
  },
  {
   "cell_type": "markdown",
   "id": "7cdc16c4",
   "metadata": {},
   "source": [
    "Per poter utilizzare mysql abbiamo bisogno di installare in pacchetto 'mysql-connector-python'\n",
    "https://pypi.org/project/mysql-connector-python/\n",
    "pip install mysql-connector-python\n",
    "\n",
    "Per poterci connettere ad un DB, python ha bisgno di: host, user, pass, database"
   ]
  },
  {
   "cell_type": "code",
   "execution_count": null,
   "id": "2aea05fa",
   "metadata": {},
   "outputs": [
    {
     "data": {
      "text/plain": [
       "True"
      ]
     },
     "execution_count": 14,
     "metadata": {},
     "output_type": "execute_result"
    }
   ],
   "source": [
    "import mysql.connector as mc\n",
    "\n",
    "# mc.connect stabilisce un collegamento al DB passando i parametri di connessione\n",
    "db = mc.connect(\n",
    "    host='localhost',\n",
    "    user='root',\n",
    "    password='root',\n",
    "    database='python_db'\n",
    ")\n",
    "\n",
    "cursor = db.cursor() # Oggetto capace di comunicare con il database\n",
    "\n",
    "sql =   'CREATE TABLE IF NOT EXISTS users (\\\n",
    "            id INT NOT NULL AUTO_INCREMENT PRIMARY KEY,\\\n",
    "            firstname VARCHAR(100) NOT NULL,\\\n",
    "            lastname VARCHAR(100) NOT NULL,\\\n",
    "            city VARCHAR(100) NULL\\\n",
    "        )'\n",
    "        \n",
    "cursor.execute(sql)\n",
    "\n",
    "cursor.close()"
   ]
  }
 ],
 "metadata": {
  "kernelspec": {
   "display_name": "Python 3",
   "language": "python",
   "name": "python3"
  },
  "language_info": {
   "codemirror_mode": {
    "name": "ipython",
    "version": 3
   },
   "file_extension": ".py",
   "mimetype": "text/x-python",
   "name": "python",
   "nbconvert_exporter": "python",
   "pygments_lexer": "ipython3",
   "version": "3.13.3"
  }
 },
 "nbformat": 4,
 "nbformat_minor": 5
}
