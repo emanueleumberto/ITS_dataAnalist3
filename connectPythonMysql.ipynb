{
 "cells": [
  {
   "cell_type": "markdown",
   "id": "e41fe1d2",
   "metadata": {},
   "source": [
    "Un file IPYNB è il formato standard di Jupiter Notebook ovvero documenti interattivi che contengono codice, testo e altri elementi multimediali tipicamente utilizzati per l'analisi e la visualizzazione di dati con Python."
   ]
  },
  {
   "cell_type": "code",
   "execution_count": 4,
   "id": "4b813c7a",
   "metadata": {},
   "outputs": [
    {
     "name": "stdout",
     "output_type": "stream",
     "text": [
      "Ciao a tutti!\n"
     ]
    }
   ],
   "source": [
    "a = 'Ciao a tutti!'\n",
    "print(a)"
   ]
  },
  {
   "cell_type": "markdown",
   "id": "7cdc16c4",
   "metadata": {},
   "source": [
    "Per poter utilizzare mysql abbiamo bisogno di installare in pacchetto 'mysql-connector-python'\n",
    "https://pypi.org/project/mysql-connector-python/\n",
    "pip install mysql-connector-python\n",
    "\n",
    "Per poterci connettere ad un DB, python ha bisgno di: host, user, pass, database"
   ]
  },
  {
   "cell_type": "code",
   "execution_count": 12,
   "id": "2aea05fa",
   "metadata": {},
   "outputs": [
    {
     "name": "stdout",
     "output_type": "stream",
     "text": [
      "Utente: 1 -> Mario Rossini - Roma\n",
      "Utente: 2 -> Giuseppe Verdi - Firenze\n"
     ]
    }
   ],
   "source": [
    "import mysql.connector as mc\n",
    "\n",
    "# mc.connect stabilisce un collegamento al DB passando i parametri di connessione\n",
    "db = mc.connect(\n",
    "    host='localhost',\n",
    "    port=3306,\n",
    "    user='root',\n",
    "    password='root',\n",
    "    database='python_db'\n",
    ")\n",
    "\n",
    "cursor = db.cursor() # Oggetto capace di comunicare con il database\n",
    "\n",
    "def crea_tabella_utenti():\n",
    "    sql =   'CREATE TABLE IF NOT EXISTS users (\\\n",
    "            id INT NOT NULL AUTO_INCREMENT PRIMARY KEY,\\\n",
    "            firstname VARCHAR(100) NOT NULL,\\\n",
    "            lastname VARCHAR(100) NOT NULL,\\\n",
    "            city VARCHAR(100) NULL\\\n",
    "        )'\n",
    "        \n",
    "    cursor.execute(sql)\n",
    "\n",
    "def aggiungi_utente():\n",
    "    nome = input(f\"Inserisci nome: \")\n",
    "    cognome = input(f\"Inserisci cognome: \")\n",
    "    citta = input(f\"Inserisci la città: \")\n",
    "    \n",
    "    sql = \"INSERT INTO users (firstname, lastname, city) VALUES (%s, %s, %s)\"\n",
    "    values = (nome, cognome, citta)\n",
    "    cursor.execute(sql, values)\n",
    "    \n",
    "    db.commit()\n",
    "    if cursor._last_insert_id:\n",
    "        print(f\"Utente {nome} {cognome} salvato nel DB!\")\n",
    "\n",
    "def visualizza_utenti():\n",
    "    sql = \"SELECT * FROM users\"\n",
    "    cursor.execute(sql)\n",
    "    listaUtenti = cursor.fetchall()\n",
    "    \n",
    "    # print(listaUtenti)\n",
    "    for utente in listaUtenti:\n",
    "        print(f\"Utente: {utente[0]} -> {utente[1]} {utente[2]} - {utente[3]}\")\n",
    "\n",
    "def visualizza_dettaglio_utente(id):\n",
    "    sql = f\"SELECT * FROM users WHERE id = {id}\"\n",
    "    cursor.execute(sql)\n",
    "    utente = cursor.fetchone()\n",
    "    return utente\n",
    "\n",
    "def modifica_utente():\n",
    "    visualizza_utenti()\n",
    "    scelta = input('Quale utente vuoi modificare?')\n",
    "    utente = visualizza_dettaglio_utente(scelta)\n",
    "    if utente:\n",
    "        nome = input(f\"Inserisci nome ({utente[1]}) : \") or utente[1]\n",
    "        cognome = input(f\"Inserisci cognome ({utente[2]}) : \") or utente[2]\n",
    "        citta = input(f\"Inserisci la città ({utente[3]}): \") or utente[3]\n",
    "        \n",
    "        sql = \"UPDATE users SET firstname = %s, lastname = %s, city = %s WHERE id = %s\"\n",
    "        values = (nome, cognome, citta, utente[0])\n",
    "        cursor.execute(sql, values)\n",
    "        db.commit()\n",
    "        \n",
    "        print(f\"Utente modificato con successo\")\n",
    "    else:\n",
    "        print(f\"Utente non trovato nel DB\")\n",
    "\n",
    "# crea_tabella_utenti()\n",
    "# aggiungi_utente()\n",
    "\n",
    "# print(visualizza_dettaglio_utente(2))\n",
    "# modifica_utente()\n",
    "visualizza_utenti()\n",
    "\n",
    "cursor.close()\n",
    "db.close()"
   ]
  }
 ],
 "metadata": {
  "kernelspec": {
   "display_name": "Python 3",
   "language": "python",
   "name": "python3"
  },
  "language_info": {
   "codemirror_mode": {
    "name": "ipython",
    "version": 3
   },
   "file_extension": ".py",
   "mimetype": "text/x-python",
   "name": "python",
   "nbconvert_exporter": "python",
   "pygments_lexer": "ipython3",
   "version": "3.13.3"
  }
 },
 "nbformat": 4,
 "nbformat_minor": 5
}
